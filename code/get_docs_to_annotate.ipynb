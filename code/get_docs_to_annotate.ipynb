{
 "cells": [
  {
   "cell_type": "markdown",
   "id": "cc48b727-2bb0-43e1-bc72-a4ffd96e4315",
   "metadata": {},
   "source": [
    "<h1>EECS 549 Final Project</h1>\n",
    "\n",
    "Index set of Reddit posts \n",
    "\n",
    "Get preliminary set of relevant documents from the BM25 baseline and a subset of random documents for manual annotation "
   ]
  },
  {
   "cell_type": "code",
   "execution_count": null,
   "id": "dbe6e3e6-4c94-4ec6-bff1-6ec5cce5cf62",
   "metadata": {},
   "outputs": [],
   "source": [
    "import os \n",
    "from indexing import Indexer\n",
    "from ranker import Ranker, BM25\n",
    "from nltk import TweetTokenizer\n",
    "import pickle\n",
    "from tqdm import tqdm\n",
    "import pandas as pd\n",
    "import json\n",
    "import numpy as np "
   ]
  },
  {
   "cell_type": "markdown",
   "id": "5f8b8725-4d81-4c5d-aef0-c0d73778a14f",
   "metadata": {},
   "source": [
    "<h2>Index document set</h2>"
   ]
  },
  {
   "cell_type": "code",
   "execution_count": null,
   "id": "1dfc2b9e-9843-4b4a-9267-8b4940c43e36",
   "metadata": {},
   "outputs": [],
   "source": [
    "with open(\"../files/stopwords.txt\") as f:\n",
    "    words = f.read()\n",
    "    stopwords = words.split()"
   ]
  },
  {
   "cell_type": "code",
   "execution_count": null,
   "id": "2b6868a2-94c8-454c-902c-37a53b11b6d1",
   "metadata": {},
   "outputs": [],
   "source": [
    "document_preprocessor = TweetTokenizer()"
   ]
  },
  {
   "cell_type": "code",
   "execution_count": null,
   "id": "0e139621-8423-4487-bbb3-048f168c718d",
   "metadata": {},
   "outputs": [],
   "source": [
    "index = Indexer.create_index('PositionalIndex', '../data/ask_reddit_posts_augmented.jsonl', document_preprocessor, stopwords, 10)"
   ]
  },
  {
   "cell_type": "code",
   "execution_count": null,
   "id": "561a862e-ba64-4db4-9517-ef6814d68dcf",
   "metadata": {},
   "outputs": [],
   "source": [
    "with open(\"../files/index_pickle\", \"wb\") as f: \n",
    "    pickle.dump(index, f)"
   ]
  },
  {
   "cell_type": "markdown",
   "id": "ad52fe7a-0b83-4e66-aa56-8952a092906e",
   "metadata": {},
   "source": [
    "<h2>Get BM25 Rankings</h2>"
   ]
  },
  {
   "cell_type": "code",
   "execution_count": null,
   "id": "4f113631-8041-49d5-b1f8-64e72736900c",
   "metadata": {},
   "outputs": [],
   "source": [
    "df = pd.read_csv(\"../data/ask_reddit.csv\")"
   ]
  },
  {
   "cell_type": "code",
   "execution_count": null,
   "id": "9b325409-314b-4f2b-bea6-d57c59b9ac25",
   "metadata": {},
   "outputs": [],
   "source": [
    "with open(\"../eval/simple_evaluation_queries.csv\") as f:\n",
    "    lines = f.readlines()\n",
    "    queries = [line.strip().replace('\"', '') for line in lines[1:]]"
   ]
  },
  {
   "cell_type": "code",
   "execution_count": null,
   "id": "c3204e0f-b91c-4498-b77d-2dfec5962d8d",
   "metadata": {},
   "outputs": [],
   "source": [
    "bm25 = BM25(index)\n",
    "ranker = Ranker(index, document_preprocessor, stopwords, bm25)"
   ]
  },
  {
   "cell_type": "code",
   "execution_count": null,
   "id": "3f7c8486-0ee9-4591-8fb7-74bbb787147e",
   "metadata": {},
   "outputs": [],
   "source": [
    "docids = df['docid'].to_list()"
   ]
  },
  {
   "cell_type": "code",
   "execution_count": null,
   "id": "2e862eda-cc4c-4ab6-9881-249e05b93a24",
   "metadata": {},
   "outputs": [],
   "source": [
    "queries_to_rel = {}\n",
    "\n",
    "for query in tqdm(queries):\n",
    "    docs = ranker.query(query)\n",
    "    ids = [doc[0] for doc in docs][:20]\n",
    "    random_ids = list(np.random.choice(docids, 10))\n",
    "    ids.extend(random_ids)\n",
    "    queries_to_rel[query] = ids"
   ]
  },
  {
   "cell_type": "markdown",
   "id": "e65d6a8c-72a9-4531-96c0-f45c6bc22505",
   "metadata": {},
   "source": [
    "<h2>Format data</h2>"
   ]
  },
  {
   "cell_type": "code",
   "execution_count": null,
   "id": "d2f4745a-05c4-49a1-a18b-4294577006e4",
   "metadata": {},
   "outputs": [],
   "source": [
    "rel_df = pd.DataFrame.from_dict(queries_to_rel).T\n",
    "rel_df.columns = [f\"doc_{i}\" for i in range(1, 31)]"
   ]
  },
  {
   "cell_type": "code",
   "execution_count": null,
   "id": "17303df6-cf91-4b17-8ec9-7afcd3481492",
   "metadata": {},
   "outputs": [],
   "source": [
    "title_df = df[['title', 'id']]\n",
    "for i in range(1, 31):\n",
    "    target_col = rel_df[f'doc_{i}']"
   ]
  },
  {
   "cell_type": "code",
   "execution_count": null,
   "id": "d510240b-cb85-4450-aa68-41607639f1b4",
   "metadata": {},
   "outputs": [],
   "source": [
    "rel_df.to_csv(\"../eval/bm25_relevance_baseline_queries.csv\", header = None)"
   ]
  },
  {
   "cell_type": "markdown",
   "id": "7f5aa4f3-79da-44a8-a710-b51171875e19",
   "metadata": {},
   "source": [
    "<h2>Look up docs</h2>"
   ]
  },
  {
   "cell_type": "code",
   "execution_count": null,
   "id": "ef4732f1-5a91-444c-96fc-08a3b11d80c2",
   "metadata": {},
   "outputs": [],
   "source": [
    "docs = {}\n",
    "with open(\"../data/ask_reddit_posts_augmented.jsonl\", \"r\") as f:\n",
    "    doc = f.readline()\n",
    "    while doc:\n",
    "        doc = json.loads(doc)\n",
    "        id = doc['docid']\n",
    "        content = doc['text']\n",
    "        docs[id] = content\n",
    "        doc = f.readline()"
   ]
  },
  {
   "cell_type": "code",
   "execution_count": null,
   "id": "7118bd70-6d19-4a5d-b022-9bd4c19f4152",
   "metadata": {
    "scrolled": true
   },
   "outputs": [],
   "source": [
    "np.random.choice(list(docs.keys()))\n"
   ]
  },
  {
   "cell_type": "code",
   "execution_count": null,
   "id": "3121fb48-51c2-4a55-8618-756038fd9ab1",
   "metadata": {},
   "outputs": [],
   "source": [
    "docs[169243]"
   ]
  },
  {
   "cell_type": "code",
   "execution_count": null,
   "id": "3b13a0de-e528-49d0-9ed4-af006c3be8eb",
   "metadata": {},
   "outputs": [],
   "source": []
  },
  {
   "cell_type": "code",
   "execution_count": null,
   "id": "e8aa2037-28e5-420d-859b-4fa66129c0c2",
   "metadata": {},
   "outputs": [],
   "source": []
  }
 ],
 "metadata": {
  "kernelspec": {
   "display_name": "Python 3 (ipykernel)",
   "language": "python",
   "name": "python3"
  },
  "language_info": {
   "codemirror_mode": {
    "name": "ipython",
    "version": 3
   },
   "file_extension": ".py",
   "mimetype": "text/x-python",
   "name": "python",
   "nbconvert_exporter": "python",
   "pygments_lexer": "ipython3",
   "version": "3.11.6"
  }
 },
 "nbformat": 4,
 "nbformat_minor": 5
}
