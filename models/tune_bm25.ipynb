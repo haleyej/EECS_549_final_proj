{
 "cells": [
  {
   "cell_type": "code",
   "execution_count": 1,
   "id": "cbd0899d-9d32-42ce-b0ea-d10bafcba579",
   "metadata": {},
   "outputs": [],
   "source": [
    "import sys\n",
    "sys.path.insert(1, '../code')"
   ]
  },
  {
   "cell_type": "code",
   "execution_count": 2,
   "id": "f7dd3bf8-0f03-4483-af7e-7eaeba5513c4",
   "metadata": {},
   "outputs": [],
   "source": [
    "import os\n",
    "import random\n",
    "import itertools\n",
    "import numpy as np \n",
    "import pandas as pd \n",
    "\n",
    "from tqdm import tqdm\n",
    "\n",
    "from utils import * \n",
    "from ranker import BM25, Ranker\n",
    "from relevance import run_relevance_tests\n"
   ]
  },
  {
   "cell_type": "markdown",
   "id": "a76f90ee-ab3a-4fbc-be9b-4d368521ec2e",
   "metadata": {},
   "source": [
    "<h2>Loading & indexing</h2>"
   ]
  },
  {
   "cell_type": "code",
   "execution_count": 3,
   "id": "0c82a2cb-f3ff-4af8-b02d-a09d8ae240e2",
   "metadata": {},
   "outputs": [],
   "source": [
    "docs = load_docs(\"../data/ask_reddit_posts_augmented.jsonl\")"
   ]
  },
  {
   "cell_type": "markdown",
   "id": "e66fc7f6-3e43-4523-a9e6-648ee4d3c098",
   "metadata": {},
   "source": [
    "<h2>Load queries</h2>"
   ]
  },
  {
   "cell_type": "code",
   "execution_count": 4,
   "id": "7a476c10-4694-4505-a437-80b67a6b34d3",
   "metadata": {},
   "outputs": [],
   "source": [
    "SPLIT_SIZE = 0.6"
   ]
  },
  {
   "cell_type": "code",
   "execution_count": 5,
   "id": "c573436d-87e9-4af4-bdaa-0ce732187bad",
   "metadata": {},
   "outputs": [],
   "source": [
    "queries_to_relevance = load_true_relevance(\"../eval/reformated_relevance_scores.csv\")\n",
    "queries = list(queries_to_relevance.keys())"
   ]
  },
  {
   "cell_type": "code",
   "execution_count": 6,
   "id": "e4a7ba18-e8d7-4937-a04d-b8f81fba0be3",
   "metadata": {},
   "outputs": [],
   "source": [
    "N_TUNE_QUERIES = int(np.round(len(queries) * SPLIT_SIZE))\n",
    "\n",
    "random.shuffle(queries)\n",
    "\n",
    "tune_queries = queries[:N_TUNE_QUERIES]\n",
    "val_queries = queries[N_TUNE_QUERIES:]"
   ]
  },
  {
   "cell_type": "markdown",
   "id": "5283dae2-38c2-47d2-a21e-189c5a1b66a9",
   "metadata": {},
   "source": [
    "<h2>Param Grid</h2>\n",
    "\n",
    "<a href = \"https://www.elastic.co/blog/practical-bm25-part-3-considerations-for-picking-b-and-k1-in-elasticsearch\">reference</a>"
   ]
  },
  {
   "cell_type": "code",
   "execution_count": 7,
   "id": "acffea79-6c62-4f96-b612-975d7e0352ce",
   "metadata": {},
   "outputs": [],
   "source": [
    "PARAM_GRID = {'b': [0.05, 0.1, 0.2, 0.25, 0.3, 0.35, 0.4, 0.5, 0.6, 0.7, 0.8, 0.9, 1], \n",
    "              'k1': [0, 0.25, 0.5, 1, 1.25, 1.5, 2, 2.25, 2.5, 3, 3.25, 3.5, 4, 4.5, 5], \n",
    "              'k3': [0, 0.25, 0.5, 1, 1.25, 1.5, 2, 2.25, 2.5, 3, 3.25, 3.5, 4, 4.5, 5]}"
   ]
  },
  {
   "cell_type": "code",
   "execution_count": 8,
   "id": "c5a8468e-e08d-4a04-9418-4704f5851ca6",
   "metadata": {},
   "outputs": [],
   "source": [
    "params, vals = zip(*PARAM_GRID.items())\n",
    "param_permutations = [dict(zip(params, v)) for v in itertools.product(*vals)]"
   ]
  },
  {
   "cell_type": "markdown",
   "id": "599bbaa1-5671-4b4a-bcf4-6168996e6aad",
   "metadata": {},
   "source": [
    "<h2>Load IR Infastructure</h2>"
   ]
  },
  {
   "cell_type": "code",
   "execution_count": 9,
   "id": "e8f112ad-87e0-4fa0-bc88-5198f698aed0",
   "metadata": {},
   "outputs": [
    {
     "ename": "NameError",
     "evalue": "name 'cutoff' is not defined",
     "output_type": "error",
     "traceback": [
      "\u001b[0;31m---------------------------------------------------------------------------\u001b[0m",
      "\u001b[0;31mNameError\u001b[0m                                 Traceback (most recent call last)",
      "Cell \u001b[0;32mIn[9], line 8\u001b[0m\n\u001b[1;32m      5\u001b[0m k1 \u001b[38;5;241m=\u001b[39m permutation[\u001b[38;5;124m'\u001b[39m\u001b[38;5;124mk1\u001b[39m\u001b[38;5;124m'\u001b[39m]\n\u001b[1;32m      6\u001b[0m k3 \u001b[38;5;241m=\u001b[39m permutation[\u001b[38;5;124m'\u001b[39m\u001b[38;5;124mk3\u001b[39m\u001b[38;5;124m'\u001b[39m]\n\u001b[0;32m----> 8\u001b[0m \u001b[38;5;28meval\u001b[39m \u001b[38;5;241m=\u001b[39m run_relevance_tests(tune_queries, \u001b[38;5;124m'\u001b[39m\u001b[38;5;124m'\u001b[39m, \u001b[43mcutoff\u001b[49m)\n",
      "\u001b[0;31mNameError\u001b[0m: name 'cutoff' is not defined"
     ]
    }
   ],
   "source": [
    "scores = {}\n",
    "\n",
    "for permutation in tqdm(param_permutations):\n",
    "    b = permutation['b']\n",
    "    k1 = permutation['k1']\n",
    "    k3 = permutation['k3']\n",
    "\n",
    "    #eval = run_relevance_tests(tune_queries, '', ranker, 10)\n",
    "    avg_map = eval['map']\n",
    "    avg_ncdg = eval['ncdg']\n",
    "\n",
    "    scores[(b, k1, k3)] = (avg_map, avg_ncdg)"
   ]
  },
  {
   "cell_type": "code",
   "execution_count": null,
   "id": "8ccc6ebb-9eb1-4e5e-b953-d059c90b1f0b",
   "metadata": {},
   "outputs": [],
   "source": [
    "sorted_scores = sorted(list(scores.items()), key = lambda s: s[1][1], reverse = True)"
   ]
  }
 ],
 "metadata": {
  "kernelspec": {
   "display_name": "Python 3 (ipykernel)",
   "language": "python",
   "name": "python3"
  },
  "language_info": {
   "codemirror_mode": {
    "name": "ipython",
    "version": 3
   },
   "file_extension": ".py",
   "mimetype": "text/x-python",
   "name": "python",
   "nbconvert_exporter": "python",
   "pygments_lexer": "ipython3",
   "version": "3.11.6"
  }
 },
 "nbformat": 4,
 "nbformat_minor": 5
}
