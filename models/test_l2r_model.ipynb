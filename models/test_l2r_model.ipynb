{
 "cells": [
  {
   "cell_type": "markdown",
   "id": "00523369-477f-4606-b6db-16398b16611f",
   "metadata": {},
   "source": [
    "<h1>Test L2R Model</h1>"
   ]
  },
  {
   "cell_type": "code",
   "execution_count": 1,
   "id": "fa3b8699-11bd-4e02-8fb2-cc6df8c520a4",
   "metadata": {},
   "outputs": [],
   "source": [
    "import sys\n",
    "sys.path.insert(1, '../code')"
   ]
  },
  {
   "cell_type": "code",
   "execution_count": 2,
   "id": "edcb06f6-c190-4f77-b0e7-cfe4e5ac75a1",
   "metadata": {},
   "outputs": [],
   "source": [
    "import os\n",
    "import csv\n",
    "import pickle\n",
    "import pandas as pd\n",
    "\n",
    "from nltk import TweetTokenizer\n",
    "\n",
    "from boosting_ranker import * \n",
    "from utils import * "
   ]
  },
  {
   "cell_type": "markdown",
   "id": "881e45c7-edc5-40ee-8740-2b58549356aa",
   "metadata": {},
   "source": [
    "<h2>Load Data</h2>\n",
    "\n",
    "<h3>Documents</h3>"
   ]
  },
  {
   "cell_type": "code",
   "execution_count": 3,
   "id": "fe9a3ee3-91e3-4b0f-8a1d-2f50974ac3cf",
   "metadata": {},
   "outputs": [],
   "source": [
    "docs = load_docs(\"../data/ask_reddit_posts_augmented.jsonl\", text_key = \"full_text\")"
   ]
  },
  {
   "cell_type": "code",
   "execution_count": 4,
   "id": "964e8e17-b512-4c68-9da2-a92e2ae6cf34",
   "metadata": {},
   "outputs": [],
   "source": [
    "docids = [doc[0] for doc in docs]"
   ]
  },
  {
   "cell_type": "markdown",
   "id": "c086c9c6-acdf-4a8a-9a5d-07f27c01a7c5",
   "metadata": {},
   "source": [
    "<h3>Training Data</h3>"
   ]
  },
  {
   "cell_type": "code",
   "execution_count": 18,
   "id": "53cc5fad-8d9a-4f8d-bf29-1d2fed2e9e3a",
   "metadata": {},
   "outputs": [],
   "source": [
    "queries_to_relevance = load_true_relevance(\"../eval/reformated_relevance_scores.csv\")\n",
    "queries_to_relevance_test = {k:v for k,v in list(queries_to_relevance.items())[:5]}"
   ]
  },
  {
   "cell_type": "markdown",
   "id": "5e717272-7657-4a05-b6f6-c86249ca5ff2",
   "metadata": {},
   "source": [
    "<h2>Load IR System Infastructure</h2>"
   ]
  },
  {
   "cell_type": "code",
   "execution_count": 7,
   "id": "470d65a1-bdfe-4978-a3fd-115abd2aafb3",
   "metadata": {},
   "outputs": [],
   "source": [
    "document_preprocessor = TweetTokenizer()"
   ]
  },
  {
   "cell_type": "code",
   "execution_count": 8,
   "id": "740656a5-c12e-40a3-883d-2ce2cbc2833f",
   "metadata": {},
   "outputs": [],
   "source": [
    "with open(\"../files/stopwords.txt\") as f:\n",
    "    words = f.read()\n",
    "    stopwords = words.split()"
   ]
  },
  {
   "cell_type": "code",
   "execution_count": 9,
   "id": "4ff76ecd-3377-4b83-abf1-fb4e66b0c267",
   "metadata": {},
   "outputs": [],
   "source": [
    "with open(\"../system_components/post_index\", \"rb\") as f:\n",
    "    post_index = pickle.load(f)\n",
    "\n",
    "with open(\"../system_components/comment_index\", \"rb\") as f:\n",
    "    comment_index = pickle.load(f)\n",
    "\n",
    "\n",
    "with open(\"../system_componnents/full_text_index\", \"rb\") as f:\n",
    "    full_text_index = pickle.load(f)"
   ]
  },
  {
   "cell_type": "code",
   "execution_count": null,
   "id": "05075fdc-918c-4743-a7ea-3c8f0ec46f7d",
   "metadata": {},
   "outputs": [],
   "source": [
    "bm25 = BM25(full_text_index)\n",
    "ranker = Ranker(full_text_index, document_preprocessor, stopwords, bm25)"
   ]
  },
  {
   "cell_type": "markdown",
   "id": "9aa350bb-31ad-4ca5-b383-fc4a348867dc",
   "metadata": {},
   "source": [
    "<h2>Feature files</h2>"
   ]
  },
  {
   "cell_type": "code",
   "execution_count": 10,
   "id": "9478f08b-236d-4ace-9720-df452f061221",
   "metadata": {},
   "outputs": [],
   "source": [
    "cross_encoder_scores = {}\n",
    "with open(\"cross_encoder_scores.csv\", \"r\") as f: \n",
    "    reader = csv.reader(f)\n",
    "    for line in reader: \n",
    "        if 'docid' in line:\n",
    "            continue\n",
    "        cross_encoder_scores[int(line[0])] = float(line[1])\n",
    "    "
   ]
  },
  {
   "cell_type": "code",
   "execution_count": 11,
   "id": "4feb69e7-74b5-41de-bb04-ba116772a1b2",
   "metadata": {},
   "outputs": [],
   "source": [
    "karma_scores = {}\n",
    "with open(\"../data/post_karma.csv\", \"r\") as f: \n",
    "    reader = csv.reader(f)\n",
    "    for line in reader:\n",
    "        if 'docid' in line:\n",
    "            continue\n",
    "        karma_scores[int(line[0])] = (float(line[1]), float(line[2]))"
   ]
  },
  {
   "cell_type": "code",
   "execution_count": 12,
   "id": "0efdb9ab-c0e5-4aff-b8ab-aa5a09974a71",
   "metadata": {},
   "outputs": [],
   "source": [
    "sentiment_scores = {}\n",
    "with open(\"../data/doc_sentiment.csv\", \"r\") as f:\n",
    "    reader = csv.reader(f)\n",
    "    for line in reader:\n",
    "        if 'docid' in line:\n",
    "            continue\n",
    "        try:\n",
    "            score = float(line[0])\n",
    "        except:\n",
    "            score = 0\n",
    "        sentiment_scores[int(line[1])] = score"
   ]
  },
  {
   "cell_type": "markdown",
   "id": "0501b8c8-5517-4a6d-ae1c-53edd91103cd",
   "metadata": {},
   "source": [
    "<h2>Feature Extraction</h2>"
   ]
  },
  {
   "cell_type": "code",
   "execution_count": 13,
   "id": "bd6fdc29-e5ae-461b-b6bf-d355ce4de909",
   "metadata": {},
   "outputs": [],
   "source": [
    "feature_extractor = XGBRankerFeatures(post_index, comment_index, {'post': {'b': 0.1, 'k1': 0.9, 'k3': 0.9}, \n",
    "                                                                  'comment': {'b': 0.1, 'k1': 0.9, 'k3': 0.9}}, \n",
    "                                      cross_encoder_scores, karma_scores, sentiment_scores)"
   ]
  },
  {
   "cell_type": "code",
   "execution_count": 14,
   "id": "f262a0a0-d20e-41ce-b1fc-3c083793a0f2",
   "metadata": {},
   "outputs": [],
   "source": [
    "query = 'what is something that is fun'"
   ]
  },
  {
   "cell_type": "code",
   "execution_count": 15,
   "id": "0b4b72ab-b648-4885-8285-beebd9d61086",
   "metadata": {},
   "outputs": [],
   "source": [
    "ranker = XGBRankerWrapper(feature_extractor, stopwords, document_preprocessor)"
   ]
  },
  {
   "cell_type": "code",
   "execution_count": 19,
   "id": "35707ae4-b7d0-4111-b181-842139a55e5e",
   "metadata": {},
   "outputs": [
    {
     "name": "stderr",
     "output_type": "stream",
     "text": [
      "5it [00:40,  8.11s/it]"
     ]
    },
    {
     "name": "stdout",
     "output_type": "stream",
     "text": [
      "(140, 8) (140,) (140,)\n"
     ]
    },
    {
     "name": "stderr",
     "output_type": "stream",
     "text": [
      "\n"
     ]
    }
   ],
   "source": [
    "tup = ranker.fit(queries_to_relevance_test)"
   ]
  },
  {
   "cell_type": "code",
   "execution_count": 22,
   "id": "c9d828a3-37fc-4add-a4df-62ec09b9f21a",
   "metadata": {},
   "outputs": [
    {
     "ename": "AttributeError",
     "evalue": "'XGBRankerWrapper' object has no attribute 'ranker'",
     "output_type": "error",
     "traceback": [
      "\u001b[0;31m---------------------------------------------------------------------------\u001b[0m",
      "\u001b[0;31mAttributeError\u001b[0m                            Traceback (most recent call last)",
      "Cell \u001b[0;32mIn[22], line 1\u001b[0m\n\u001b[0;32m----> 1\u001b[0m \u001b[43mranker\u001b[49m\u001b[38;5;241;43m.\u001b[39;49m\u001b[43mquery\u001b[49m\u001b[43m(\u001b[49m\u001b[43m[\u001b[49m\u001b[38;5;241;43m1\u001b[39;49m\u001b[43m]\u001b[49m\u001b[43m,\u001b[49m\u001b[43m \u001b[49m\u001b[38;5;124;43m'\u001b[39;49m\u001b[38;5;124;43mis god real?\u001b[39;49m\u001b[38;5;124;43m'\u001b[39;49m\u001b[43m,\u001b[49m\u001b[43m \u001b[49m\u001b[43mcutoff\u001b[49m\u001b[43m \u001b[49m\u001b[38;5;241;43m=\u001b[39;49m\u001b[43m \u001b[49m\u001b[38;5;241;43m10\u001b[39;49m\u001b[43m)\u001b[49m\n",
      "File \u001b[0;32m~/Desktop/eecs_549/final_project/models/../code/boosting_ranker.py:170\u001b[0m, in \u001b[0;36mXGBRankerWrapper.query\u001b[0;34m(self, X, query, cutoff)\u001b[0m\n\u001b[1;32m    168\u001b[0m \u001b[38;5;28;01mdef\u001b[39;00m \u001b[38;5;21mquery\u001b[39m(\u001b[38;5;28mself\u001b[39m, X:\u001b[38;5;28mlist\u001b[39m[\u001b[38;5;28mstr\u001b[39m], query: \u001b[38;5;28mstr\u001b[39m, cutoff: \u001b[38;5;28mint\u001b[39m):\n\u001b[1;32m    169\u001b[0m     query_word_parts \u001b[38;5;241m=\u001b[39m \u001b[38;5;28mself\u001b[39m\u001b[38;5;241m.\u001b[39mtokenize_query(query)\n\u001b[0;32m--> 170\u001b[0m     base \u001b[38;5;241m=\u001b[39m \u001b[38;5;28;43mself\u001b[39;49m\u001b[38;5;241;43m.\u001b[39;49m\u001b[43mranker\u001b[49m\u001b[38;5;241m.\u001b[39mquery(query)\n\u001b[1;32m    172\u001b[0m     \u001b[38;5;28;01mfor\u001b[39;00m docid, _ \u001b[38;5;129;01min\u001b[39;00m base[:cutoff]:\n\u001b[1;32m    173\u001b[0m         features \u001b[38;5;241m=\u001b[39m \u001b[38;5;28mself\u001b[39m\u001b[38;5;241m.\u001b[39mfeature_preparer\u001b[38;5;241m.\u001b[39mget_ranker_features(X, query_word_parts)\n",
      "\u001b[0;31mAttributeError\u001b[0m: 'XGBRankerWrapper' object has no attribute 'ranker'"
     ]
    }
   ],
   "source": [
    "ranker.query([1], 'is god real?', cutoff = 10)"
   ]
  },
  {
   "cell_type": "code",
   "execution_count": null,
   "id": "62b349d5-372b-4476-a078-e3282aeefd29",
   "metadata": {},
   "outputs": [],
   "source": [
    "np.array(tup[1]).shape"
   ]
  },
  {
   "cell_type": "code",
   "execution_count": null,
   "id": "9e739381-1640-428c-9196-d76ee03664ce",
   "metadata": {},
   "outputs": [],
   "source": [
    "ranker.predict([2], 'i am just a girl')"
   ]
  },
  {
   "cell_type": "code",
   "execution_count": null,
   "id": "ab9378eb-97aa-4a4b-a089-d75e65162d24",
   "metadata": {},
   "outputs": [],
   "source": [
    "import xgboost as xgb\n",
    "from sklearn.datasets import make_classification\n",
    "\n",
    "# Make a synthetic ranking dataset for demonstration\n",
    "seed = 1994\n",
    "X, y = make_classification(random_state=seed)\n",
    "rng = np.random.default_rng(seed)\n",
    "n_query_groups = 3\n",
    "qid = rng.integers(0, 3, size=X.shape[0])"
   ]
  },
  {
   "cell_type": "code",
   "execution_count": null,
   "id": "8f523f31-2de2-45fa-9bec-6ef522965cee",
   "metadata": {},
   "outputs": [],
   "source": [
    "y"
   ]
  },
  {
   "cell_type": "code",
   "execution_count": null,
   "id": "09279a3c-0894-493f-a280-136218d908b6",
   "metadata": {},
   "outputs": [],
   "source": []
  }
 ],
 "metadata": {
  "kernelspec": {
   "display_name": "Python 3 (ipykernel)",
   "language": "python",
   "name": "python3"
  },
  "language_info": {
   "codemirror_mode": {
    "name": "ipython",
    "version": 3
   },
   "file_extension": ".py",
   "mimetype": "text/x-python",
   "name": "python",
   "nbconvert_exporter": "python",
   "pygments_lexer": "ipython3",
   "version": "3.11.6"
  }
 },
 "nbformat": 4,
 "nbformat_minor": 5
}
