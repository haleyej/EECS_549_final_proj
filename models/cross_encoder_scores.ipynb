{
 "cells": [
  {
   "cell_type": "markdown",
   "id": "921ab327-98f5-4191-9188-c5d01eb9c788",
   "metadata": {},
   "source": [
    "<h1>Cross Encoder Scores</h1>\n",
    "Pre-computer question - answer cross encoder scores for use in L2R model\n",
    "\n",
    "See more <a href = \"https://huggingface.co/cross-encoder/qnli-distilroberta-base\">here</a>"
   ]
  },
  {
   "cell_type": "code",
   "execution_count": 2,
   "id": "80972258-5f6e-4255-bde7-3c59a870a276",
   "metadata": {},
   "outputs": [],
   "source": [
    "import sys\n",
    "sys.path.insert(1, '../code')"
   ]
  },
  {
   "cell_type": "code",
   "execution_count": 31,
   "id": "d9500cc0-7216-4f16-b9ed-3924912095cf",
   "metadata": {},
   "outputs": [],
   "source": [
    "from utils import * \n",
    "\n",
    "import os \n",
    "import torch\n",
    "import pandas as pd \n",
    "\n",
    "from tqdm import tqdm \n",
    "from transformers import AutoTokenizer, AutoModelForSequenceClassification"
   ]
  },
  {
   "cell_type": "markdown",
   "id": "8bf65d79-3587-4972-a037-a5346b3f0822",
   "metadata": {},
   "source": [
    "<h2>Load documents</h2>"
   ]
  },
  {
   "cell_type": "code",
   "execution_count": 32,
   "id": "a2ecc516-bc43-4f8a-9804-1665ef9a402a",
   "metadata": {},
   "outputs": [],
   "source": [
    "comments = load_docs(\"../data/ask_reddit_posts_augmented.jsonl\", text_key = \"comments\")\n",
    "posts = load_docs(\"../data/ask_reddit_posts_augmented.jsonl\", text_key = \"post\")"
   ]
  },
  {
   "cell_type": "markdown",
   "id": "a2d38e22-09b2-4f75-80ac-d7fa2c5530fb",
   "metadata": {},
   "source": [
    "<h2>Load model</h2>"
   ]
  },
  {
   "cell_type": "code",
   "execution_count": 33,
   "id": "c156e0d9-d163-4ba4-8699-8b2f80d800d0",
   "metadata": {},
   "outputs": [],
   "source": [
    "model = AutoModelForSequenceClassification.from_pretrained('cross-encoder/qnli-distilroberta-base')"
   ]
  },
  {
   "cell_type": "code",
   "execution_count": 34,
   "id": "c5e1b2d6-5921-409b-a3fb-a3a024d22917",
   "metadata": {},
   "outputs": [],
   "source": [
    "tokenizer = AutoTokenizer.from_pretrained('cross-encoder/qnli-distilroberta-base')"
   ]
  },
  {
   "cell_type": "code",
   "execution_count": 35,
   "id": "744f40b4-8084-4721-af7c-b1dfb5c4c507",
   "metadata": {},
   "outputs": [],
   "source": [
    "docids = [doc[0] for doc in comments]"
   ]
  },
  {
   "cell_type": "code",
   "execution_count": 39,
   "id": "7eb3da95-d785-456d-ae43-7e49eaa6b351",
   "metadata": {},
   "outputs": [
    {
     "name": "stdout",
     "output_type": "stream",
     "text": [
      "tensor([[0.9928],\n",
      "        [0.0015]])\n"
     ]
    }
   ],
   "source": [
    "features = tokenizer(['How many people live in Berlin?', 'What is the size of New York?'], ['Berlin had a population of 3,520,031 registered inhabitants in an area of 891.82 square kilometers.', 'New York City is famous for the Metropolitan Museum of Art.'],  padding=True, truncation=True, return_tensors=\"pt\")\n",
    "\n",
    "model.eval()\n",
    "with torch.no_grad():\n",
    "    scores = torch.nn.functional.sigmoid(model(**features).logits)\n",
    "    print(scores)"
   ]
  },
  {
   "cell_type": "code",
   "execution_count": null,
   "id": "8f5b556c-ce51-46e8-834f-29d0ebbc6c76",
   "metadata": {},
   "outputs": [
    {
     "name": "stderr",
     "output_type": "stream",
     "text": [
      "  1%|▎                                        | 1285/200001 [01:01<2:33:54, 21.52it/s]"
     ]
    }
   ],
   "source": [
    "doc2text_score = {}\n",
    "for docid in tqdm(docids): \n",
    "    post = posts[docid][1]\n",
    "    comment = comments[docid][1]\n",
    "\n",
    "    features = tokenizer(post, comment, padding = True, truncation = True, return_tensors = \"pt\")\n",
    "\n",
    "    model.eval()\n",
    "    with torch.no_grad():\n",
    "        score = torch.nn.functional.sigmoid(model(**features).logits)\n",
    "        doc2text_score[docid] = float(score[0][0])\n",
    "\n",
    "    "
   ]
  },
  {
   "cell_type": "code",
   "execution_count": null,
   "id": "7780142a-4e4a-4c23-9eea-82b635df1dcf",
   "metadata": {},
   "outputs": [],
   "source": []
  }
 ],
 "metadata": {
  "kernelspec": {
   "display_name": "Python 3 (ipykernel)",
   "language": "python",
   "name": "python3"
  },
  "language_info": {
   "codemirror_mode": {
    "name": "ipython",
    "version": 3
   },
   "file_extension": ".py",
   "mimetype": "text/x-python",
   "name": "python",
   "nbconvert_exporter": "python",
   "pygments_lexer": "ipython3",
   "version": "3.11.6"
  }
 },
 "nbformat": 4,
 "nbformat_minor": 5
}
