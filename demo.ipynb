{
 "cells": [
  {
   "cell_type": "markdown",
   "id": "9e27e75d-c44d-4e08-9ff2-015975b66a1f",
   "metadata": {},
   "source": [
    "<h1>EECS 549 Final Project: Social Search</h1>\n",
    "\n",
    "Haley Johnson \n",
    "December 13, 2023\n",
    "\n",
    "Run this file to demo my project"
   ]
  },
  {
   "cell_type": "code",
   "execution_count": 1,
   "id": "2aee9ff6-049e-4bc1-ad03-3f0b344d1f6d",
   "metadata": {},
   "outputs": [],
   "source": [
    "import os\n",
    "import pickle\n",
    "import pandas as pd"
   ]
  },
  {
   "cell_type": "code",
   "execution_count": 2,
   "id": "b60b7e2b-1e8d-4a98-9a48-041936a9cf87",
   "metadata": {},
   "outputs": [],
   "source": [
    "os.chdir(\"code\")"
   ]
  },
  {
   "cell_type": "markdown",
   "id": "a040153c-690d-4c1a-8994-9dbb7e3ccc2f",
   "metadata": {},
   "source": [
    "<h2>Load Data & Model</h2>"
   ]
  },
  {
   "cell_type": "code",
   "execution_count": 3,
   "id": "5147781a-4d33-457f-b3af-c00685b34a19",
   "metadata": {},
   "outputs": [],
   "source": [
    "df = pd.read_csv(\"../data/front_end_data.csv\", header = None)\n",
    "df.columns = ['docid', 'title', 'permalink', 'post_karma']"
   ]
  },
  {
   "cell_type": "code",
   "execution_count": 4,
   "id": "7538ddf5-6c1f-44fd-8da8-9bd3d311a1d6",
   "metadata": {},
   "outputs": [],
   "source": [
    "with open(\"../system_components/l2r\", \"rb\") as f:\n",
    "    l2r = pickle.load(f)"
   ]
  },
  {
   "cell_type": "markdown",
   "id": "a2f9fc03-29cc-4e52-8019-b24e055d7c2b",
   "metadata": {},
   "source": [
    "<h2>Run IR System</h2>\n",
    "\n",
    "Set the query and how many results you'd like to see"
   ]
  },
  {
   "cell_type": "code",
   "execution_count": 5,
   "id": "fcfa9fd3-8b95-4e2b-a8e9-3c0113c20c4d",
   "metadata": {},
   "outputs": [],
   "source": [
    "QUERY = 'what can I do with my CS degree?'\n",
    "CUTOFF = 10"
   ]
  },
  {
   "cell_type": "markdown",
   "id": "4591f939-aa8d-4003-8819-5dea8f259377",
   "metadata": {},
   "source": [
    "Note that the original post may have been deleted, so not all the permalinks will work"
   ]
  },
  {
   "cell_type": "code",
   "execution_count": 6,
   "id": "70eb72f9-0294-43fb-9b36-d87595c428b0",
   "metadata": {},
   "outputs": [
    {
     "name": "stderr",
     "output_type": "stream",
     "text": [
      "100%|█████████████████████████████████████████████████| 50/50 [00:16<00:00,  3.08it/s]"
     ]
    },
    {
     "name": "stdout",
     "output_type": "stream",
     "text": [
      "RESULT 1\n",
      "TITLE: People who got a degree because you were told said degree would land you a high paying job, did it?\n",
      "POST KARMA 3\n",
      "PERMALINK https://old.reddit.com/r/AskReddit/comments/jdez1b/people_who_got_a_degree_because_you_were_told/\n",
      "\n",
      "RESULT 2\n",
      "TITLE: People who work in fields that are different than what they got a degree in; how’d you arrive there and are you happy with your job?\n",
      "POST KARMA 2\n",
      "PERMALINK https://old.reddit.com/r/AskReddit/comments/jopz3h/people_who_work_in_fields_that_are_different_than/\n",
      "\n",
      "RESULT 3\n",
      "TITLE: What pisses you off to an unnatural degree?\n",
      "POST KARMA 3\n",
      "PERMALINK https://old.reddit.com/r/AskReddit/comments/jpyu6t/what_pisses_you_off_to_an_unnatural_degree/\n",
      "\n",
      "RESULT 4\n",
      "TITLE: Redditors who obtained a college degree but ended up with a career in a field unrelated to that degree subject, how did it happen?\n",
      "POST KARMA 2\n",
      "PERMALINK https://old.reddit.com/r/AskReddit/comments/jwpxq1/redditors_who_obtained_a_college_degree_but_ended/\n",
      "\n",
      "RESULT 5\n",
      "TITLE: University graduates, how often do you use your degree?\n",
      "POST KARMA 4\n",
      "PERMALINK https://old.reddit.com/r/AskReddit/comments/k2uz7f/university_graduates_how_often_do_you_use_your/\n",
      "\n",
      "RESULT 6\n",
      "TITLE: Those who moved out and survive without a high paying job or degree, how'd you do it?\n",
      "POST KARMA 5\n",
      "PERMALINK https://old.reddit.com/r/AskReddit/comments/k2so0p/those_who_moved_out_and_survive_without_a_high/\n",
      "\n",
      "RESULT 7\n",
      "TITLE: What Are the Best Ways to Obtain a Bachelor's Degree Within One Year?\n",
      "POST KARMA 1\n",
      "PERMALINK https://old.reddit.com/r/AskReddit/comments/jqlrvf/what_are_the_best_ways_to_obtain_a_bachelors/\n",
      "\n",
      "RESULT 8\n",
      "TITLE: YouTube is now an accredited university and your viewing history counts as credits towards your major. What degree do you now have?\n",
      "POST KARMA 2\n",
      "PERMALINK https://old.reddit.com/r/AskReddit/comments/jmqeew/youtube_is_now_an_accredited_university_and_your/\n",
      "\n",
      "RESULT 9\n",
      "TITLE: USA Gen X and Millennials, what was your reason for completing a college degree, and what benefits and/or drawbacks have you experienced from your decision to go to college?\n",
      "POST KARMA 1\n",
      "PERMALINK https://old.reddit.com/r/AskReddit/comments/jqonvt/usa_gen_x_and_millennials_what_was_your_reason/\n",
      "\n",
      "RESULT 10\n",
      "TITLE: How much did it really matter whether you went to a local college or a prestigious university? As long as they offer same degree, isn't getting into a \"good school\" a bit overrated?\n",
      "POST KARMA 0\n",
      "PERMALINK https://old.reddit.com/r/AskReddit/comments/jssdnp/how_much_did_it_really_matter_whether_you_went_to/\n",
      "\n"
     ]
    },
    {
     "name": "stderr",
     "output_type": "stream",
     "text": [
      "\n"
     ]
    }
   ],
   "source": [
    "results = l2r.query(query)\n",
    "\n",
    "cutoff = min(len(results), CUTOFF)\n",
    "for i, result in enumerate(results[:cutoff]):\n",
    "    result_docid = int(result[0])\n",
    "    info = df[df['docid'] == result_docid]\n",
    "    vals = list(list(info.values)[0])\n",
    "    title = vals[1]\n",
    "    permalink = vals[2]\n",
    "    karma = vals[3]\n",
    "    print(f'RESULT {i + 1}')\n",
    "    print(f'TITLE: {title}')\n",
    "    print(f'POST KARMA {karma}')\n",
    "    print(f'PERMALINK {permalink}')\n",
    "    print('')"
   ]
  },
  {
   "cell_type": "code",
   "execution_count": null,
   "id": "1edfa77f-c390-4b2e-9203-39795a7edb2d",
   "metadata": {},
   "outputs": [],
   "source": []
  }
 ],
 "metadata": {
  "kernelspec": {
   "display_name": "Python 3 (ipykernel)",
   "language": "python",
   "name": "python3"
  },
  "language_info": {
   "codemirror_mode": {
    "name": "ipython",
    "version": 3
   },
   "file_extension": ".py",
   "mimetype": "text/x-python",
   "name": "python",
   "nbconvert_exporter": "python",
   "pygments_lexer": "ipython3",
   "version": "3.11.6"
  }
 },
 "nbformat": 4,
 "nbformat_minor": 5
}
