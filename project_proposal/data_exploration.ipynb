{
 "cells": [
  {
   "cell_type": "code",
   "execution_count": 1,
   "id": "8b27675c",
   "metadata": {},
   "outputs": [],
   "source": [
    "import os \n",
    "import pandas as pd"
   ]
  },
  {
   "cell_type": "code",
   "execution_count": 2,
   "id": "545fc5df",
   "metadata": {},
   "outputs": [],
   "source": [
    "posts = pd.read_csv(\"../data/ten-million-reddit-answers-posts.csv\")\n",
    "\n",
    "comments = pd.read_csv(\"../data/ten-million-reddit-answers-comments.csv\")"
   ]
  },
  {
   "cell_type": "code",
   "execution_count": null,
   "id": "8d3871a0",
   "metadata": {},
   "outputs": [],
   "source": [
    "posts['created_date'] = pd.to_datetime(posts['created_utc'], unit = 's')"
   ]
  },
  {
   "cell_type": "code",
   "execution_count": 3,
   "id": "68c6b950",
   "metadata": {},
   "outputs": [],
   "source": [
    "comments['post permalink'] = comments['permalink'].apply(lambda s: \"/\".join(s.split(\"/\")[:-2]) + \"/\")"
   ]
  },
  {
   "cell_type": "code",
   "execution_count": 4,
   "id": "64192f14",
   "metadata": {},
   "outputs": [],
   "source": [
    "merge = posts.merge(comments, how = 'left', left_on = 'permalink', right_on = 'post permalink')"
   ]
  },
  {
   "cell_type": "code",
   "execution_count": 7,
   "id": "f8248b3f",
   "metadata": {},
   "outputs": [
    {
     "data": {
      "text/plain": [
       "(9999975, 23)"
      ]
     },
     "execution_count": 7,
     "metadata": {},
     "output_type": "execute_result"
    }
   ],
   "source": [
    "merge.shape"
   ]
  },
  {
   "cell_type": "code",
   "execution_count": 16,
   "id": "d201b25a",
   "metadata": {},
   "outputs": [
    {
     "data": {
      "text/plain": [
       "mean         15.300954\n",
       "median        4.000000\n",
       "min           0.000000\n",
       "max       51673.000000\n",
       "Name: body, dtype: float64"
      ]
     },
     "execution_count": 16,
     "metadata": {},
     "output_type": "execute_result"
    }
   ],
   "source": [
    "merge.groupby('title')['body'].nunique().agg(['mean', 'median', 'min', 'max'])"
   ]
  },
  {
   "cell_type": "code",
   "execution_count": 39,
   "id": "cd8b556e",
   "metadata": {},
   "outputs": [],
   "source": [
    "posts['created_date'] = pd.to_datetime(posts['created_utc'], unit = 's')"
   ]
  },
  {
   "cell_type": "code",
   "execution_count": 41,
   "id": "af9523bc",
   "metadata": {},
   "outputs": [
    {
     "data": {
      "text/plain": [
       "min   2010-02-18 22:44:06\n",
       "max   2020-11-30 23:59:39\n",
       "Name: created_date, dtype: datetime64[ns]"
      ]
     },
     "execution_count": 41,
     "metadata": {},
     "output_type": "execute_result"
    }
   ],
   "source": [
    "posts['created_date'].agg(['min', 'max'])"
   ]
  },
  {
   "cell_type": "code",
   "execution_count": null,
   "id": "9f4f6a0a",
   "metadata": {},
   "outputs": [],
   "source": []
  }
 ],
 "metadata": {
  "kernelspec": {
   "display_name": "Python 3 (ipykernel)",
   "language": "python",
   "name": "python3"
  },
  "language_info": {
   "codemirror_mode": {
    "name": "ipython",
    "version": 3
   },
   "file_extension": ".py",
   "mimetype": "text/x-python",
   "name": "python",
   "nbconvert_exporter": "python",
   "pygments_lexer": "ipython3",
   "version": "3.9.13"
  }
 },
 "nbformat": 4,
 "nbformat_minor": 5
}
