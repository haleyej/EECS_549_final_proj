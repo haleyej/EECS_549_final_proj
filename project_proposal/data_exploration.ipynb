{
 "cells": [
  {
   "cell_type": "markdown",
   "id": "ae7f02c7-b514-40f3-aeba-cb79fd8c7c0b",
   "metadata": {},
   "source": [
    "<h1>EECS 549 Final Project</h1>\n",
    "\n",
    "Data exploration & basic mainipulation"
   ]
  },
  {
   "cell_type": "code",
   "execution_count": 1,
   "id": "8b27675c",
   "metadata": {},
   "outputs": [],
   "source": [
    "import os \n",
    "import pandas as pd\n",
    "import json\n",
    "import csv\n",
    "from tqdm import tqdm\n",
    "import numpy as np"
   ]
  },
  {
   "cell_type": "code",
   "execution_count": 2,
   "id": "d85f78e0-1437-4a67-988f-6f415723df6f",
   "metadata": {},
   "outputs": [],
   "source": [
    "np.random.seed(42)"
   ]
  },
  {
   "cell_type": "code",
   "execution_count": 3,
   "id": "545fc5df",
   "metadata": {},
   "outputs": [],
   "source": [
    "posts = pd.read_csv(\"../data/ten-million-reddit-answers-posts.csv\")\n",
    "\n",
    "comments = pd.read_csv(\"../data/ten-million-reddit-answers-comments.csv\")"
   ]
  },
  {
   "cell_type": "markdown",
   "id": "7a765fab-1976-46b0-9eac-a8fdd7ce24d5",
   "metadata": {},
   "source": [
    "<h2>Combine datasets</h2>"
   ]
  },
  {
   "cell_type": "code",
   "execution_count": 4,
   "id": "8d3871a0",
   "metadata": {},
   "outputs": [],
   "source": [
    "posts['created_date'] = pd.to_datetime(posts['created_utc'], unit = 's')"
   ]
  },
  {
   "cell_type": "code",
   "execution_count": 5,
   "id": "68c6b950",
   "metadata": {},
   "outputs": [],
   "source": [
    "comments['post permalink'] = comments['permalink'].apply(lambda s: \"/\".join(s.split(\"/\")[:-2]) + \"/\")"
   ]
  },
  {
   "cell_type": "code",
   "execution_count": 6,
   "id": "64192f14",
   "metadata": {},
   "outputs": [],
   "source": [
    "#prepare data\n",
    "posts_subset = posts[['title', 'permalink', 'created_date']]\n",
    "posts_subset = posts_subset.rename(columns = {'created_date': 'post_created'})\n",
    "comments = comments.drop(columns = ['permalink'])\n",
    "\n",
    "merge = posts_subset.merge(comments, how = 'left', left_on = 'permalink', right_on = 'post permalink')"
   ]
  },
  {
   "cell_type": "code",
   "execution_count": 7,
   "id": "f8248b3f",
   "metadata": {},
   "outputs": [
    {
     "data": {
      "text/plain": [
       "(9999980, 13)"
      ]
     },
     "execution_count": 7,
     "metadata": {},
     "output_type": "execute_result"
    }
   ],
   "source": [
    "merge.shape"
   ]
  },
  {
   "cell_type": "code",
   "execution_count": 8,
   "id": "d201b25a",
   "metadata": {},
   "outputs": [
    {
     "data": {
      "text/plain": [
       "mean         15.300088\n",
       "median        4.000000\n",
       "min           0.000000\n",
       "max       51673.000000\n",
       "Name: body, dtype: float64"
      ]
     },
     "execution_count": 8,
     "metadata": {},
     "output_type": "execute_result"
    }
   ],
   "source": [
    "merge.groupby('title')['body'].nunique().agg(['mean', 'median', 'min', 'max'])"
   ]
  },
  {
   "cell_type": "markdown",
   "id": "79dba05c-5193-42b1-93db-ba500ed694a4",
   "metadata": {},
   "source": [
    "<h2>Summary statistics about post dates</h2>"
   ]
  },
  {
   "cell_type": "code",
   "execution_count": 9,
   "id": "af9523bc",
   "metadata": {},
   "outputs": [
    {
     "data": {
      "text/plain": [
       "min   2010-02-18 22:44:06\n",
       "max   2020-11-30 23:59:39\n",
       "Name: created_date, dtype: datetime64[ns]"
      ]
     },
     "execution_count": 9,
     "metadata": {},
     "output_type": "execute_result"
    }
   ],
   "source": [
    "posts['created_date'].agg(['min', 'max'])"
   ]
  },
  {
   "cell_type": "markdown",
   "id": "7c1959c5-aa97-41f9-8142-7b2704786477",
   "metadata": {},
   "source": [
    "<h2>Create new dataset made up of full posts</h2>"
   ]
  },
  {
   "cell_type": "code",
   "execution_count": 10,
   "id": "aac15786-3abb-478c-9b3d-9b2794b8accb",
   "metadata": {},
   "outputs": [],
   "source": [
    "# new numeric index \n",
    "merge = merge.reset_index()\n",
    "merge = merge.drop(columns = [\"id\"])\n",
    "merge = merge.rename(columns = {'index': 'docid'})"
   ]
  },
  {
   "cell_type": "code",
   "execution_count": 11,
   "id": "dcdac145-057d-43b8-9a6b-2ed92b83f8f9",
   "metadata": {},
   "outputs": [],
   "source": [
    "merge = merge.sort_values(by = 'created_utc', ascending = True)"
   ]
  },
  {
   "cell_type": "code",
   "execution_count": null,
   "id": "75b15320-53ac-4106-a082-b7ed8e98a512",
   "metadata": {},
   "outputs": [],
   "source": [
    "merge.to_csv(\"../data/ask_reddit.csv\", index = False)"
   ]
  },
  {
   "cell_type": "code",
   "execution_count": null,
   "id": "ab066b45-f215-4c75-80cb-e97966fadd9b",
   "metadata": {},
   "outputs": [],
   "source": [
    "titles = list(merge['title'].astype(str).values)\n",
    "comments = list(merge['body'].astype(str).values)\n",
    "idx = list(merge['docid'].values)"
   ]
  },
  {
   "cell_type": "code",
   "execution_count": null,
   "id": "fd5b51f2-75c1-4f67-a914-74f34b9484ed",
   "metadata": {},
   "outputs": [],
   "source": [
    "used_idx = np.random.choice(idx, size = 300000, replace = False)"
   ]
  },
  {
   "cell_type": "code",
   "execution_count": null,
   "id": "629df198-9835-43da-aea5-007d787940a5",
   "metadata": {},
   "outputs": [],
   "source": [
    "idx_to_post = {}\n",
    "\n",
    "for i in tqdm(range(len(used_idx))):\n",
    "    docid = idx[i]\n",
    "    title = titles[i]\n",
    "    comment = comments[i]\n",
    "    if '[deleted]' in comment or '[removed]' in comment or '**PLEASE READ THIS MESSAGE IN ITS ENTIRETY BEFORE TAKING ACTION.*' in comment: \n",
    "        continue\n",
    "    if id not in list(idx_to_post.values()):\n",
    "        idx_to_post[docid] = title + \" \" + comment + \" \"\n",
    "        continue\n",
    "    curr = idx_to_post[docid]\n",
    "    if len(curr) <= 30000:\n",
    "        idx_to_post[docid] = idx_to_post[docid] + comment + \" \""
   ]
  },
  {
   "cell_type": "markdown",
   "id": "10beb927-53d0-4607-8fcc-d100219e3d43",
   "metadata": {},
   "source": [
    "<h2>Write dataset to file</h2>"
   ]
  },
  {
   "cell_type": "code",
   "execution_count": null,
   "id": "eaf050a6-983a-4abb-b47a-72560ce9bb5f",
   "metadata": {},
   "outputs": [],
   "source": [
    "with open(\"../data/ask_reddit_posts_v2.jsonl\", \"w\") as f:\n",
    "    for k, v in list(idx_to_post.items()):\n",
    "        d = {'docid': k, 'text': v}\n",
    "        print(json.dumps(d), file = f)"
   ]
  },
  {
   "cell_type": "code",
   "execution_count": null,
   "id": "b6c178ce-521d-4db1-90fe-0b2449e1be78",
   "metadata": {},
   "outputs": [],
   "source": []
  }
 ],
 "metadata": {
  "kernelspec": {
   "display_name": "Python 3 (ipykernel)",
   "language": "python",
   "name": "python3"
  },
  "language_info": {
   "codemirror_mode": {
    "name": "ipython",
    "version": 3
   },
   "file_extension": ".py",
   "mimetype": "text/x-python",
   "name": "python",
   "nbconvert_exporter": "python",
   "pygments_lexer": "ipython3",
   "version": "3.11.6"
  }
 },
 "nbformat": 4,
 "nbformat_minor": 5
}
