{
 "cells": [
  {
   "cell_type": "markdown",
   "id": "ae7f02c7-b514-40f3-aeba-cb79fd8c7c0b",
   "metadata": {},
   "source": [
    "<h1>EECS 549 Final Project</h1>\n",
    "\n",
    "Data exploration & basic mainipulation"
   ]
  },
  {
   "cell_type": "code",
   "execution_count": 1,
   "id": "8b27675c",
   "metadata": {},
   "outputs": [],
   "source": [
    "import os \n",
    "import pandas as pd\n",
    "import json\n",
    "import csv\n",
    "from tqdm import tqdm\n",
    "import numpy as np"
   ]
  },
  {
   "cell_type": "code",
   "execution_count": 2,
   "id": "545fc5df",
   "metadata": {},
   "outputs": [],
   "source": [
    "posts = pd.read_csv(\"../data/ten-million-reddit-answers-posts.csv\")\n",
    "\n",
    "comments = pd.read_csv(\"../data/ten-million-reddit-answers-comments.csv\")"
   ]
  },
  {
   "cell_type": "markdown",
   "id": "7a765fab-1976-46b0-9eac-a8fdd7ce24d5",
   "metadata": {},
   "source": [
    "<h2>Combine datasets</h2>"
   ]
  },
  {
   "cell_type": "code",
   "execution_count": 3,
   "id": "8d3871a0",
   "metadata": {},
   "outputs": [],
   "source": [
    "posts['created_date'] = pd.to_datetime(posts['created_utc'], unit = 's')"
   ]
  },
  {
   "cell_type": "code",
   "execution_count": 4,
   "id": "68c6b950",
   "metadata": {},
   "outputs": [],
   "source": [
    "comments['post permalink'] = comments['permalink'].apply(lambda s: \"/\".join(s.split(\"/\")[:-2]) + \"/\")"
   ]
  },
  {
   "cell_type": "code",
   "execution_count": 5,
   "id": "64192f14",
   "metadata": {},
   "outputs": [],
   "source": [
    "merge = posts.merge(comments, how = 'left', left_on = 'permalink', right_on = 'post permalink')"
   ]
  },
  {
   "cell_type": "code",
   "execution_count": 6,
   "id": "f8248b3f",
   "metadata": {},
   "outputs": [
    {
     "data": {
      "text/plain": [
       "(9999980, 24)"
      ]
     },
     "execution_count": 6,
     "metadata": {},
     "output_type": "execute_result"
    }
   ],
   "source": [
    "merge.shape"
   ]
  },
  {
   "cell_type": "code",
   "execution_count": 7,
   "id": "d201b25a",
   "metadata": {},
   "outputs": [
    {
     "data": {
      "text/plain": [
       "mean         15.300088\n",
       "median        4.000000\n",
       "min           0.000000\n",
       "max       51673.000000\n",
       "Name: body, dtype: float64"
      ]
     },
     "execution_count": 7,
     "metadata": {},
     "output_type": "execute_result"
    }
   ],
   "source": [
    "merge.groupby('title')['body'].nunique().agg(['mean', 'median', 'min', 'max'])"
   ]
  },
  {
   "cell_type": "code",
   "execution_count": 8,
   "id": "cd8b556e",
   "metadata": {},
   "outputs": [],
   "source": [
    "posts['created_date'] = pd.to_datetime(posts['created_utc'], unit = 's')"
   ]
  },
  {
   "cell_type": "code",
   "execution_count": 9,
   "id": "af9523bc",
   "metadata": {},
   "outputs": [
    {
     "data": {
      "text/plain": [
       "min   2010-02-18 22:44:06\n",
       "max   2020-11-30 23:59:39\n",
       "Name: created_date, dtype: datetime64[ns]"
      ]
     },
     "execution_count": 9,
     "metadata": {},
     "output_type": "execute_result"
    }
   ],
   "source": [
    "posts['created_date'].agg(['min', 'max'])"
   ]
  },
  {
   "cell_type": "markdown",
   "id": "7c1959c5-aa97-41f9-8142-7b2704786477",
   "metadata": {},
   "source": [
    "<h2>Create new dataset made up of full posts</h2>"
   ]
  },
  {
   "cell_type": "code",
   "execution_count": 10,
   "id": "637ab237-8b95-4d49-a0a4-7ac8531b7551",
   "metadata": {},
   "outputs": [],
   "source": [
    "id_map = pd.read_csv(\"../data/id_map.csv\", header = None)\n",
    "id_map.columns = ['new', 'old']"
   ]
  },
  {
   "cell_type": "code",
   "execution_count": 11,
   "id": "e2075f41-7780-4e23-bcd5-bc9fe4c5cad7",
   "metadata": {},
   "outputs": [],
   "source": [
    "merge = merge.drop(columns = ['type_y', \n",
    "                              'id_y', \n",
    "                              'subreddit.id_y', \n",
    "                              'subreddit.name_y', \n",
    "                              'subreddit.nsfw_y',\n",
    "                              'created_utc_y', \n",
    "                              'permalink_y', 'score_y'])\n",
    "           "
   ]
  },
  {
   "cell_type": "code",
   "execution_count": 12,
   "id": "3f5b48b5-c238-4926-b52f-7a9546614836",
   "metadata": {},
   "outputs": [],
   "source": [
    "merge.columns = [col[:-2] if '_x' in col else col for col in merge.columns]"
   ]
  },
  {
   "cell_type": "code",
   "execution_count": 13,
   "id": "dcdac145-057d-43b8-9a6b-2ed92b83f8f9",
   "metadata": {},
   "outputs": [],
   "source": [
    "merge = merge.sort_values(by = 'created_utc', ascending = True)"
   ]
  },
  {
   "cell_type": "code",
   "execution_count": 14,
   "id": "1f36bd94-0fc6-4631-ace7-288d38cd60a8",
   "metadata": {},
   "outputs": [],
   "source": [
    "merge = merge.merge(id_map, left_on = 'id', right_on = 'old', how = 'left')\n",
    "merge = merge.drop(columns = 'old')\n",
    "merge = merge.rename(columns = {'new':'docid'})"
   ]
  },
  {
   "cell_type": "code",
   "execution_count": 15,
   "id": "a75c422e-835f-4336-8a7e-a6b44cfac517",
   "metadata": {},
   "outputs": [],
   "source": [
    "def fill_idx(s, df = merge):\n",
    "    if pd.isnull(s) == True:\n",
    "        max = df['docid'].max()\n",
    "        return (max + 1)\n",
    "    return s"
   ]
  },
  {
   "cell_type": "code",
   "execution_count": null,
   "id": "b5f93790-43ef-40f0-8fc0-d4c6361e28f4",
   "metadata": {},
   "outputs": [],
   "source": [
    "merged['docid'] = merge['docid'].apply(fill_idx)"
   ]
  },
  {
   "cell_type": "code",
   "execution_count": 13,
   "id": "6bc2123a-a4eb-4ef2-afec-5beb51190c09",
   "metadata": {},
   "outputs": [],
   "source": [
    "ids = np.random.choice(list(set(merge['id'].values)), 100000, replace = False)"
   ]
  },
  {
   "cell_type": "code",
   "execution_count": 14,
   "id": "7ec5efc6-880a-4bd5-b840-c473ad08be17",
   "metadata": {},
   "outputs": [],
   "source": [
    "merge = merge[merge['id'].isin(ids)]"
   ]
  },
  {
   "cell_type": "code",
   "execution_count": 15,
   "id": "75b15320-53ac-4106-a082-b7ed8e98a512",
   "metadata": {},
   "outputs": [],
   "source": [
    "merge.to_csv(\"../data/ask_reddit.csv\", index = False)"
   ]
  },
  {
   "cell_type": "code",
   "execution_count": 16,
   "id": "ab066b45-f215-4c75-80cb-e97966fadd9b",
   "metadata": {},
   "outputs": [],
   "source": [
    "titles = list(merge['title'].astype(str).values)\n",
    "comments = list(merge['body'].astype(str).values)\n",
    "idx = list(merge['id'].values)"
   ]
  },
  {
   "cell_type": "code",
   "execution_count": 23,
   "id": "07612273-86e7-451b-8211-1d9a80f66cd9",
   "metadata": {},
   "outputs": [
    {
     "name": "stderr",
     "output_type": "stream",
     "text": [
      " 53%|██████████████████████████████████████████▍                                     | 885635/1668782 [05:44<05:04, 2573.88it/s]\n"
     ]
    },
    {
     "ename": "KeyboardInterrupt",
     "evalue": "",
     "output_type": "error",
     "traceback": [
      "\u001b[0;31m---------------------------------------------------------------------------\u001b[0m",
      "\u001b[0;31mKeyboardInterrupt\u001b[0m                         Traceback (most recent call last)",
      "Cell \u001b[0;32mIn[23], line 15\u001b[0m\n\u001b[1;32m     13\u001b[0m     idx_to_post[docid] \u001b[38;5;241m=\u001b[39m title \u001b[38;5;241m+\u001b[39m \u001b[38;5;124m\"\u001b[39m\u001b[38;5;124m \u001b[39m\u001b[38;5;124m\"\u001b[39m \u001b[38;5;241m+\u001b[39m comment \u001b[38;5;241m+\u001b[39m \u001b[38;5;124m\"\u001b[39m\u001b[38;5;124m \u001b[39m\u001b[38;5;124m\"\u001b[39m\n\u001b[1;32m     14\u001b[0m     docid_to_postid[docid] \u001b[38;5;241m=\u001b[39m \u001b[38;5;28mid\u001b[39m\n\u001b[0;32m---> 15\u001b[0m     \u001b[38;5;28;01mcontinue\u001b[39;00m\n\u001b[1;32m     16\u001b[0m curr \u001b[38;5;241m=\u001b[39m idx_to_post[docid]\n\u001b[1;32m     17\u001b[0m \u001b[38;5;28;01mif\u001b[39;00m \u001b[38;5;28mlen\u001b[39m(curr) \u001b[38;5;241m<\u001b[39m\u001b[38;5;241m=\u001b[39m \u001b[38;5;241m25000\u001b[39m:\n",
      "\u001b[0;31mKeyboardInterrupt\u001b[0m: "
     ]
    }
   ],
   "source": [
    "idx_to_post = {}\n",
    "docid_to_postid = {}\n",
    "\n",
    "docid = 0\n",
    "for i in tqdm(range(len(idx))):\n",
    "    id = idx[i]\n",
    "    title = titles[i]\n",
    "    comment = comments[i]\n",
    "    if '[deleted]' in comment or '[removed]' in comment or '**PLEASE READ THIS MESSAGE IN ITS ENTIRETY BEFORE TAKING ACTION.**' in comment:\n",
    "        continue\n",
    "    if id not in list(docid_to_postid.values()):\n",
    "        docid += 1\n",
    "        idx_to_post[docid] = title + \" \" + comment + \" \"\n",
    "        docid_to_postid[docid] = id\n",
    "        continue\n",
    "    curr = idx_to_post[docid]\n",
    "    if len(curr) <= 25000:\n",
    "        idx_to_post[docid] = idx_to_post[docid] + comment + \" \""
   ]
  },
  {
   "cell_type": "code",
   "execution_count": 18,
   "id": "58b060a9-8ab9-4deb-af64-c1ec26e41300",
   "metadata": {},
   "outputs": [
    {
     "data": {
      "text/plain": [
       "True"
      ]
     },
     "execution_count": 18,
     "metadata": {},
     "output_type": "execute_result"
    }
   ],
   "source": [
    "list(idx_to_post.keys()) == list(docid_to_postid.keys())"
   ]
  },
  {
   "cell_type": "code",
   "execution_count": 19,
   "id": "3b03fb11-a17c-4980-a9ad-afb186935d7d",
   "metadata": {},
   "outputs": [
    {
     "data": {
      "text/plain": [
       "(1668782, 100000)"
      ]
     },
     "execution_count": 19,
     "metadata": {},
     "output_type": "execute_result"
    }
   ],
   "source": [
    "len(idx), len(set(idx))"
   ]
  },
  {
   "cell_type": "markdown",
   "id": "10beb927-53d0-4607-8fcc-d100219e3d43",
   "metadata": {},
   "source": [
    "<h2>Write dataset to file</h2>"
   ]
  },
  {
   "cell_type": "code",
   "execution_count": 20,
   "id": "eaf050a6-983a-4abb-b47a-72560ce9bb5f",
   "metadata": {},
   "outputs": [],
   "source": [
    "with open(\"../data/ask_reddit_posts.jsonl\", \"w\") as f:\n",
    "    for k, v in list(idx_to_post.items()):\n",
    "        d = {'docid': k, 'text': v}\n",
    "        print(json.dumps(d), file = f)"
   ]
  },
  {
   "cell_type": "code",
   "execution_count": 22,
   "id": "b0411805-e127-421f-b795-6c373389a036",
   "metadata": {},
   "outputs": [],
   "source": [
    "with open(\"../data/id_map.csv\", \"w\") as f: \n",
    "    writer = csv.writer(f)\n",
    "    writer.writerows(docid_to_postid.items())"
   ]
  },
  {
   "cell_type": "code",
   "execution_count": null,
   "id": "b6c178ce-521d-4db1-90fe-0b2449e1be78",
   "metadata": {},
   "outputs": [],
   "source": []
  }
 ],
 "metadata": {
  "kernelspec": {
   "display_name": "Python 3 (ipykernel)",
   "language": "python",
   "name": "python3"
  },
  "language_info": {
   "codemirror_mode": {
    "name": "ipython",
    "version": 3
   },
   "file_extension": ".py",
   "mimetype": "text/x-python",
   "name": "python",
   "nbconvert_exporter": "python",
   "pygments_lexer": "ipython3",
   "version": "3.11.6"
  }
 },
 "nbformat": 4,
 "nbformat_minor": 5
}
