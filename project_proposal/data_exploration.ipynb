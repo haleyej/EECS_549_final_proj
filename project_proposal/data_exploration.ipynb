{
 "cells": [
  {
   "cell_type": "markdown",
   "id": "ae7f02c7-b514-40f3-aeba-cb79fd8c7c0b",
   "metadata": {},
   "source": [
    "<h1>EECS 549 Final Project</h1>\n",
    "\n",
    "Data exploration & basic mainipulation"
   ]
  },
  {
   "cell_type": "code",
   "execution_count": 2,
   "id": "8b27675c",
   "metadata": {},
   "outputs": [],
   "source": [
    "import os \n",
    "import pandas as pd"
   ]
  },
  {
   "cell_type": "code",
   "execution_count": 3,
   "id": "545fc5df",
   "metadata": {},
   "outputs": [],
   "source": [
    "posts = pd.read_csv(\"../data/ten-million-reddit-answers-posts.csv\")\n",
    "\n",
    "comments = pd.read_csv(\"../data/ten-million-reddit-answers-comments.csv\")"
   ]
  },
  {
   "cell_type": "markdown",
   "id": "7a765fab-1976-46b0-9eac-a8fdd7ce24d5",
   "metadata": {},
   "source": [
    "<h2>Combine datasets</h2>"
   ]
  },
  {
   "cell_type": "code",
   "execution_count": 4,
   "id": "8d3871a0",
   "metadata": {},
   "outputs": [],
   "source": [
    "posts['created_date'] = pd.to_datetime(posts['created_utc'], unit = 's')"
   ]
  },
  {
   "cell_type": "code",
   "execution_count": 5,
   "id": "68c6b950",
   "metadata": {},
   "outputs": [],
   "source": [
    "comments['post permalink'] = comments['permalink'].apply(lambda s: \"/\".join(s.split(\"/\")[:-2]) + \"/\")"
   ]
  },
  {
   "cell_type": "code",
   "execution_count": 6,
   "id": "64192f14",
   "metadata": {},
   "outputs": [],
   "source": [
    "merge = posts.merge(comments, how = 'left', left_on = 'permalink', right_on = 'post permalink')"
   ]
  },
  {
   "cell_type": "code",
   "execution_count": 7,
   "id": "f8248b3f",
   "metadata": {},
   "outputs": [
    {
     "data": {
      "text/plain": [
       "(9999980, 24)"
      ]
     },
     "execution_count": 7,
     "metadata": {},
     "output_type": "execute_result"
    }
   ],
   "source": [
    "merge.shape"
   ]
  },
  {
   "cell_type": "code",
   "execution_count": 8,
   "id": "d201b25a",
   "metadata": {},
   "outputs": [
    {
     "data": {
      "text/plain": [
       "mean         15.300088\n",
       "median        4.000000\n",
       "min           0.000000\n",
       "max       51673.000000\n",
       "Name: body, dtype: float64"
      ]
     },
     "execution_count": 8,
     "metadata": {},
     "output_type": "execute_result"
    }
   ],
   "source": [
    "merge.groupby('title')['body'].nunique().agg(['mean', 'median', 'min', 'max'])"
   ]
  },
  {
   "cell_type": "code",
   "execution_count": 9,
   "id": "cd8b556e",
   "metadata": {},
   "outputs": [],
   "source": [
    "posts['created_date'] = pd.to_datetime(posts['created_utc'], unit = 's')"
   ]
  },
  {
   "cell_type": "code",
   "execution_count": 10,
   "id": "af9523bc",
   "metadata": {},
   "outputs": [
    {
     "data": {
      "text/plain": [
       "min   2010-02-18 22:44:06\n",
       "max   2020-11-30 23:59:39\n",
       "Name: created_date, dtype: datetime64[ns]"
      ]
     },
     "execution_count": 10,
     "metadata": {},
     "output_type": "execute_result"
    }
   ],
   "source": [
    "posts['created_date'].agg(['min', 'max'])"
   ]
  },
  {
   "cell_type": "markdown",
   "id": "7c1959c5-aa97-41f9-8142-7b2704786477",
   "metadata": {},
   "source": [
    "<h2>Create new dataset made up of full posts</h2>"
   ]
  },
  {
   "cell_type": "code",
   "execution_count": null,
   "id": "ab066b45-f215-4c75-80cb-e97966fadd9b",
   "metadata": {},
   "outputs": [],
   "source": [
    "merge['full_text'] = merge.groupby('id_x')[['title', 'body']].transform(lambda s: '\\n'.join(str(s)))"
   ]
  },
  {
   "cell_type": "code",
   "execution_count": null,
   "id": "389dda40-58ba-434a-af40-9f0417c06038",
   "metadata": {},
   "outputs": [],
   "source": [
    "merge['full_text'].sample(5)"
   ]
  },
  {
   "cell_type": "code",
   "execution_count": null,
   "id": "13913680-52f7-4903-8959-53090cf072c3",
   "metadata": {},
   "outputs": [],
   "source": []
  }
 ],
 "metadata": {
  "kernelspec": {
   "display_name": "Python 3 (ipykernel)",
   "language": "python",
   "name": "python3"
  },
  "language_info": {
   "codemirror_mode": {
    "name": "ipython",
    "version": 3
   },
   "file_extension": ".py",
   "mimetype": "text/x-python",
   "name": "python",
   "nbconvert_exporter": "python",
   "pygments_lexer": "ipython3",
   "version": "3.11.6"
  }
 },
 "nbformat": 4,
 "nbformat_minor": 5
}
