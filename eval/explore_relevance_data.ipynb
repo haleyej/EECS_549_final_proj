{
 "cells": [
  {
   "cell_type": "markdown",
   "id": "649a66c0-d501-4037-b2dd-b59dc1c02996",
   "metadata": {},
   "source": [
    "<h1>EECS 549 Final Project</h1>\n",
    "Haley Johnson\n",
    "\n",
    "Explore annotated relevance scores"
   ]
  },
  {
   "cell_type": "code",
   "execution_count": 10,
   "id": "5cc83dee-14a4-4952-b80d-ecefa8c2dcee",
   "metadata": {},
   "outputs": [],
   "source": [
    "import os\n",
    "import pandas as pd\n",
    "import seaborn as sns"
   ]
  },
  {
   "cell_type": "code",
   "execution_count": 2,
   "id": "973f555f-8f37-43a8-bdfe-81f548af0ec3",
   "metadata": {},
   "outputs": [],
   "source": [
    "df = pd.read_csv(\"reformated_relevance_scores.csv\")"
   ]
  },
  {
   "cell_type": "code",
   "execution_count": 3,
   "id": "7e46795e-6c78-4441-8884-476b846d9df6",
   "metadata": {},
   "outputs": [
    {
     "data": {
      "text/plain": [
       "5"
      ]
     },
     "execution_count": 3,
     "metadata": {},
     "output_type": "execute_result"
    }
   ],
   "source": [
    "df['rel'].max()"
   ]
  },
  {
   "cell_type": "code",
   "execution_count": 4,
   "id": "db00b969-2e5d-47db-a9a4-4bc0c6d851b5",
   "metadata": {},
   "outputs": [
    {
     "data": {
      "text/plain": [
       "2.424468085106383"
      ]
     },
     "execution_count": 4,
     "metadata": {},
     "output_type": "execute_result"
    }
   ],
   "source": [
    "df['rel'].mean()"
   ]
  },
  {
   "cell_type": "code",
   "execution_count": 5,
   "id": "55855530-73a2-446b-960b-5582835c6473",
   "metadata": {},
   "outputs": [
    {
     "data": {
      "text/plain": [
       "1.0"
      ]
     },
     "execution_count": 5,
     "metadata": {},
     "output_type": "execute_result"
    }
   ],
   "source": [
    "df['rel'].median()"
   ]
  },
  {
   "cell_type": "code",
   "execution_count": 6,
   "id": "197ff807-6978-4016-8a6e-fd888d6e5be2",
   "metadata": {},
   "outputs": [
    {
     "data": {
      "text/plain": [
       "9.323529411764707"
      ]
     },
     "execution_count": 6,
     "metadata": {},
     "output_type": "execute_result"
    }
   ],
   "source": [
    "df[df['rel'] >= 4].groupby('query')['rel'].count().mean()"
   ]
  },
  {
   "cell_type": "code",
   "execution_count": 7,
   "id": "dc908d30-6894-41a3-8781-08d2051295a7",
   "metadata": {},
   "outputs": [
    {
     "data": {
      "text/plain": [
       "9.0"
      ]
     },
     "execution_count": 7,
     "metadata": {},
     "output_type": "execute_result"
    }
   ],
   "source": [
    "df[df['rel'] >= 4].groupby('query')['rel'].count().median()"
   ]
  },
  {
   "cell_type": "code",
   "execution_count": 8,
   "id": "59e91755-96f8-42a2-8240-6561d7545cf4",
   "metadata": {},
   "outputs": [
    {
     "data": {
      "image/png": "[encoded data removed]",
      "text/plain": [
       "<Figure size 640x480 with 1 Axes>"
      ]
     },
     "metadata": {},
     "output_type": "display_data"
    }
   ],
   "source": [
    "df['rel_cat'] = pd.Categorical(df['rel'])\n",
    "f = sns.countplot(data = df, x = 'rel_cat')\n",
    "_ = f.set(title = 'Distribution of Relevance Scores', xlabel = 'Relevance Score', ylabel = 'Frequency')"
   ]
  },
  {
   "cell_type": "markdown",
   "id": "81432123-0e2a-4062-8d6e-d744e4d1b88f",
   "metadata": {},
   "source": [
    "<h2>Simple relevance scores</h2>"
   ]
  },
  {
   "cell_type": "code",
   "execution_count": 12,
   "id": "a6dfcfcf-08e0-49bb-81c8-f709a8c843c4",
   "metadata": {},
   "outputs": [],
   "source": [
    "df = pd.read_csv(\"reformated_simple_queries_relevance_scores.csv\")"
   ]
  },
  {
   "cell_type": "code",
   "execution_count": null,
   "id": "c512517c-580a-431e-bda0-90148cb7db00",
   "metadata": {},
   "outputs": [],
   "source": []
  }
 ],
 "metadata": {
  "kernelspec": {
   "display_name": "Python 3 (ipykernel)",
   "language": "python",
   "name": "python3"
  },
  "language_info": {
   "codemirror_mode": {
    "name": "ipython",
    "version": 3
   },
   "file_extension": ".py",
   "mimetype": "text/x-python",
   "name": "python",
   "nbconvert_exporter": "python",
   "pygments_lexer": "ipython3",
   "version": "3.11.6"
  }
 },
 "nbformat": 4,
 "nbformat_minor": 5
}
